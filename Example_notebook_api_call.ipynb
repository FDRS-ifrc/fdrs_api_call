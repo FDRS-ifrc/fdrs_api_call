{
 "cells": [
  {
   "cell_type": "markdown",
   "metadata": {},
   "source": [
    "## Example notebook using Api call function fdrsapi.py"
   ]
  },
  {
   "cell_type": "markdown",
   "metadata": {},
   "source": [
    "1.Download python script : https://github.com/FDRS-ifrc/fdrs_api_call/blob/main/fdrsapi.py   \n",
    "2.Store .py script in the same folder as your notebook  \n",
    "3.Import fdrsapi with the following lines :   "
   ]
  },
  {
   "cell_type": "code",
   "execution_count": 1,
   "metadata": {},
   "outputs": [],
   "source": [
    "from fdrsapi import api_function,baseline\n"
   ]
  },
  {
   "cell_type": "markdown",
   "metadata": {},
   "source": [
    "Open API Key stored in txt (from now public key but possible private key)"
   ]
  },
  {
   "cell_type": "code",
   "execution_count": 2,
   "metadata": {},
   "outputs": [],
   "source": [
    "f = open(\"public_api_key.txt\", \"r\")\n",
    "api_key=f.readline()"
   ]
  },
  {
   "cell_type": "markdown",
   "metadata": {},
   "source": [
    "Indicate which years you want to download:"
   ]
  },
  {
   "cell_type": "code",
   "execution_count": 3,
   "metadata": {},
   "outputs": [],
   "source": [
    "years=[\"2016\",\"2017\",\"2018\",\"2019\",\"2020\"]"
   ]
  },
  {
   "cell_type": "markdown",
   "metadata": {},
   "source": [
    "Select the indicators you want to download (the complete list of indicators is available in fdrs website < codebook)"
   ]
  },
  {
   "cell_type": "code",
   "execution_count": 4,
   "metadata": {},
   "outputs": [],
   "source": [
    "kpi_code=[\"KPI_DonBlood_Tot\",\"KPI_TrainFA_Tot\",\"KPI_ReachDRER_D_Tot\",\"KPI_ReachDRER_I\",\"KPI_ReachDRR_D_Tot\",\"KPI_ReachDRR_I\",\"KPI_ReachLTSPD_D_Tot\",\"KPI_ReachLTSPD_I\",\"KPI_ReachS_D_Tot\",\"KPI_ReachS_I\",\"KPI_ReachL_D_Tot\",\"KPI_ReachL_I\",\"KPI_ReachM_D_Tot\",\"KPI_ReachM_I\",\"KPI_ReachCTP_D_Tot\",\"KPI_ReachCTP_I\",\"KPI_ReachSI_D_Tot\",\"KPI_ReachSI_I\",\"KPI_ReachH_D_Tot\",\"KPI_ReachH_I\",\"KPI_ReachWASH_I\",\"KPI_ReachWASH_D_Tot\",\"KPI_ReachDRER_CPD\",\"KPI_ReachLTSPD_CPD\",\"KPI_ReachDRR_CPD\",\"KPI_ReachS_CPD\",\"KPI_ReachL_CPD\", \"KPI_ReachH_CPD\",\"KPI_ReachWASH_CPD\",\"KPI_ReachM_CPD\",\"KPI_ReachCTP_CPD\",\"KPI_ReachSI_CPD\",\"KPI_GB_Tot\",\"KPI_pr_sex\",\"KPI_sg_sex\",\"KPI_PeopleVol_Tot\",\"KPI_PStaff_Tot\",\"KPI_noLocalUnits\",\"KPI_IncomeLC\",\"KPI_IncomeLC_CHF\",\"KPI_expenditureLC\",\"KPI_expenditureLC_CHF\"]\n"
   ]
  },
  {
   "cell_type": "markdown",
   "metadata": {},
   "source": [
    "Conversion of indicators to the right formats.   \n",
    "Remove from this list all non-float indicators like KPI_pr_sex or KPI_sg_sex"
   ]
  },
  {
   "cell_type": "code",
   "execution_count": 5,
   "metadata": {},
   "outputs": [],
   "source": [
    "kpi_float=kpi_code.copy()\n",
    "kpi_float.remove(\"KPI_pr_sex\")\n",
    "kpi_float.remove(\"KPI_sg_sex\")"
   ]
  },
  {
   "cell_type": "markdown",
   "metadata": {},
   "source": [
    "Call function! "
   ]
  },
  {
   "cell_type": "code",
   "execution_count": 6,
   "metadata": {},
   "outputs": [
    {
     "name": "stdout",
     "output_type": "stream",
     "text": [
      "2016\n",
      "2017\n",
      "2018\n",
      "2019\n",
      "2020\n",
      "number of KPI downloaded: 42\n"
     ]
    }
   ],
   "source": [
    "time_series=api_function(years,kpi_code,kpi_float,api_key)\n",
    "time_series"
   ]
  }
 ],
 "metadata": {
  "interpreter": {
   "hash": "aea3ed496f8cb41080b592c4c3230c71d93f9f0167bf0a82c0eebb697930c040"
  },
  "kernelspec": {
   "display_name": "Python 3.8.8 64-bit ('base': conda)",
   "language": "python",
   "name": "python3"
  },
  "language_info": {
   "codemirror_mode": {
    "name": "ipython",
    "version": 3
   },
   "file_extension": ".py",
   "mimetype": "text/x-python",
   "name": "python",
   "nbconvert_exporter": "python",
   "pygments_lexer": "ipython3",
   "version": "3.8.8"
  },
  "orig_nbformat": 4
 },
 "nbformat": 4,
 "nbformat_minor": 2
}
